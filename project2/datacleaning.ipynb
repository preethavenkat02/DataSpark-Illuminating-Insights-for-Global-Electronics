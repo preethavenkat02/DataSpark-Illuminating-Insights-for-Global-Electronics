{
 "cells": [
  {
   "cell_type": "code",
   "execution_count": 2,
   "id": "88edf317-c56b-4dcf-982f-23745da09a77",
   "metadata": {},
   "outputs": [],
   "source": [
    "import pandas as pd\n",
    "import numpy as np"
   ]
  },
  {
   "cell_type": "code",
   "execution_count": 3,
   "id": "84024c1e-bede-403b-9e39-b474d77a9e33",
   "metadata": {},
   "outputs": [],
   "source": [
    "\n",
    "customers_df = pd.read_csv(r'C:\\Users\\Sivanesh Kumar\\Downloads\\customers.csv',encoding='ISO-8859-1')\n",
    "sales_df = pd.read_csv(r'C:\\Users\\Sivanesh Kumar\\Downloads\\Sales.csv',encoding='ISO-8859-1')\n",
    "products_df = pd.read_csv(r'C:\\Users\\Sivanesh Kumar\\Downloads\\products.csv',encoding='ISO-8859-1')\n",
    "stores_df = pd.read_csv(r'C:\\Users\\Sivanesh Kumar\\Downloads\\Stores.csv',encoding='ISO-8859-1')\n",
    "exchangerates_df = pd.read_csv(r'C:\\Users\\Sivanesh Kumar\\Downloads\\exchange_rates.csv',encoding='ISO-8859-1')\n"
   ]
  },
  {
   "cell_type": "code",
   "execution_count": 4,
   "id": "a622e213-af23-410a-ab86-c029ca59382f",
   "metadata": {},
   "outputs": [
    {
     "name": "stdout",
     "output_type": "stream",
     "text": [
      "   CustomerKey  Gender               Name            City State Code  \\\n",
      "0          301  Female      Lilly Harding  WANDEARAH EAST         SA   \n",
      "1          325  Female       Madison Hull      MOUNT BUDD         WA   \n",
      "2          554  Female      Claire Ferres       WINJALLOK        VIC   \n",
      "3          786    Male  Jai Poltpalingada    MIDDLE RIVER         SA   \n",
      "4         1042    Male    Aidan Pankhurst   TAWONGA SOUTH        VIC   \n",
      "\n",
      "               State Zip Code    Country  Continent    Birthday  \n",
      "0    South Australia     5523  Australia  Australia    7/3/1939  \n",
      "1  Western Australia     6522  Australia  Australia   9/27/1979  \n",
      "2           Victoria     3380  Australia  Australia   5/26/1947  \n",
      "3    South Australia     5223  Australia  Australia   9/17/1957  \n",
      "4           Victoria     3698  Australia  Australia  11/19/1965  \n"
     ]
    }
   ],
   "source": [
    "print(customers_df.head())\n",
    "\n",
    "\n"
   ]
  },
  {
   "cell_type": "code",
   "execution_count": 5,
   "id": "8ed65fbd-ecef-4715-8a30-2fa013794376",
   "metadata": {},
   "outputs": [
    {
     "name": "stdout",
     "output_type": "stream",
     "text": [
      "CustomerKey     0\n",
      "Gender          0\n",
      "Name            0\n",
      "City            0\n",
      "State Code     10\n",
      "State           0\n",
      "Zip Code        0\n",
      "Country         0\n",
      "Continent       0\n",
      "Birthday        0\n",
      "dtype: int64\n"
     ]
    }
   ],
   "source": [
    "print(customers_df.isnull().sum())\n"
   ]
  },
  {
   "cell_type": "code",
   "execution_count": 6,
   "id": "cf6802e4-c766-419e-9ff6-1331738222f8",
   "metadata": {},
   "outputs": [
    {
     "name": "stdout",
     "output_type": "stream",
     "text": [
      "0\n"
     ]
    }
   ],
   "source": [
    "customers_df.loc[:, 'State Code'] = customers_df['State Code'].fillna('Unknown')\n",
    "print(customers_df['State Code'].isnull().sum())\n"
   ]
  },
  {
   "cell_type": "code",
   "execution_count": 7,
   "id": "d18313d2-6586-4a04-838e-8c6fd31c2520",
   "metadata": {
    "scrolled": true
   },
   "outputs": [
    {
     "name": "stdout",
     "output_type": "stream",
     "text": [
      "<class 'pandas.core.frame.DataFrame'>\n",
      "RangeIndex: 15266 entries, 0 to 15265\n",
      "Data columns (total 10 columns):\n",
      " #   Column       Non-Null Count  Dtype \n",
      "---  ------       --------------  ----- \n",
      " 0   CustomerKey  15266 non-null  int64 \n",
      " 1   Gender       15266 non-null  object\n",
      " 2   Name         15266 non-null  object\n",
      " 3   City         15266 non-null  object\n",
      " 4   State Code   15266 non-null  object\n",
      " 5   State        15266 non-null  object\n",
      " 6   Zip Code     15266 non-null  object\n",
      " 7   Country      15266 non-null  object\n",
      " 8   Continent    15266 non-null  object\n",
      " 9   Birthday     15266 non-null  object\n",
      "dtypes: int64(1), object(9)\n",
      "memory usage: 1.2+ MB\n"
     ]
    }
   ],
   "source": [
    "customers_df.info()\n"
   ]
  },
  {
   "cell_type": "code",
   "execution_count": 8,
   "id": "2979d5d4-f46a-4ec8-8191-e3133ae278e9",
   "metadata": {},
   "outputs": [
    {
     "data": {
      "text/html": [
       "<div>\n",
       "<style scoped>\n",
       "    .dataframe tbody tr th:only-of-type {\n",
       "        vertical-align: middle;\n",
       "    }\n",
       "\n",
       "    .dataframe tbody tr th {\n",
       "        vertical-align: top;\n",
       "    }\n",
       "\n",
       "    .dataframe thead th {\n",
       "        text-align: right;\n",
       "    }\n",
       "</style>\n",
       "<table border=\"1\" class=\"dataframe\">\n",
       "  <thead>\n",
       "    <tr style=\"text-align: right;\">\n",
       "      <th></th>\n",
       "      <th>CustomerKey</th>\n",
       "    </tr>\n",
       "  </thead>\n",
       "  <tbody>\n",
       "    <tr>\n",
       "      <th>count</th>\n",
       "      <td>1.526600e+04</td>\n",
       "    </tr>\n",
       "    <tr>\n",
       "      <th>mean</th>\n",
       "      <td>1.060508e+06</td>\n",
       "    </tr>\n",
       "    <tr>\n",
       "      <th>std</th>\n",
       "      <td>6.127097e+05</td>\n",
       "    </tr>\n",
       "    <tr>\n",
       "      <th>min</th>\n",
       "      <td>3.010000e+02</td>\n",
       "    </tr>\n",
       "    <tr>\n",
       "      <th>25%</th>\n",
       "      <td>5.140335e+05</td>\n",
       "    </tr>\n",
       "    <tr>\n",
       "      <th>50%</th>\n",
       "      <td>1.079244e+06</td>\n",
       "    </tr>\n",
       "    <tr>\n",
       "      <th>75%</th>\n",
       "      <td>1.593980e+06</td>\n",
       "    </tr>\n",
       "    <tr>\n",
       "      <th>max</th>\n",
       "      <td>2.099937e+06</td>\n",
       "    </tr>\n",
       "  </tbody>\n",
       "</table>\n",
       "</div>"
      ],
      "text/plain": [
       "        CustomerKey\n",
       "count  1.526600e+04\n",
       "mean   1.060508e+06\n",
       "std    6.127097e+05\n",
       "min    3.010000e+02\n",
       "25%    5.140335e+05\n",
       "50%    1.079244e+06\n",
       "75%    1.593980e+06\n",
       "max    2.099937e+06"
      ]
     },
     "execution_count": 8,
     "metadata": {},
     "output_type": "execute_result"
    }
   ],
   "source": [
    "customers_df.describe()"
   ]
  },
  {
   "cell_type": "code",
   "execution_count": 9,
   "id": "103af681-00e4-4c5b-82a9-943b591806d9",
   "metadata": {},
   "outputs": [
    {
     "name": "stdout",
     "output_type": "stream",
     "text": [
      "CustomerKey             int64\n",
      "Gender               category\n",
      "Name                   object\n",
      "City                 category\n",
      "State Code           category\n",
      "State                category\n",
      "Zip Code               object\n",
      "Country              category\n",
      "Continent            category\n",
      "Birthday       datetime64[ns]\n",
      "dtype: object\n",
      "<class 'pandas.core.frame.DataFrame'>\n",
      "RangeIndex: 15266 entries, 0 to 15265\n",
      "Data columns (total 10 columns):\n",
      " #   Column       Non-Null Count  Dtype         \n",
      "---  ------       --------------  -----         \n",
      " 0   CustomerKey  15266 non-null  int64         \n",
      " 1   Gender       15266 non-null  category      \n",
      " 2   Name         15266 non-null  object        \n",
      " 3   City         15266 non-null  category      \n",
      " 4   State Code   15266 non-null  category      \n",
      " 5   State        15266 non-null  category      \n",
      " 6   Zip Code     15266 non-null  object        \n",
      " 7   Country      15266 non-null  category      \n",
      " 8   Continent    15266 non-null  category      \n",
      " 9   Birthday     15266 non-null  datetime64[ns]\n",
      "dtypes: category(6), datetime64[ns](1), int64(1), object(2)\n",
      "memory usage: 974.5+ KB\n",
      "None\n"
     ]
    }
   ],
   "source": [
    "\n",
    "# Convert Gender to categorical\n",
    "customers_df['Gender'] = pd.Categorical(customers_df['Gender'])\n",
    "\n",
    "# Convert State Code, City, State, Country, and Continent to categorical\n",
    "customers_df['State Code'] = pd.Categorical(customers_df['State Code'])\n",
    "customers_df['City'] = pd.Categorical(customers_df['City'])\n",
    "customers_df['State'] = pd.Categorical(customers_df['State'])\n",
    "customers_df['Country'] = pd.Categorical(customers_df['Country'])\n",
    "customers_df['Continent'] = pd.Categorical(customers_df['Continent'])\n",
    "\n",
    "# Convert Birthday to datetime\n",
    "customers_df['Birthday'] = pd.to_datetime(customers_df['Birthday'], errors='coerce')\n",
    "\n",
    "# Verify changes\n",
    "print(customers_df.dtypes)\n",
    "print(customers_df.info())"
   ]
  },
  {
   "cell_type": "code",
   "execution_count": 10,
   "id": "2f2ec8e8-0abc-4ea9-b7f1-942bbde23bc3",
   "metadata": {},
   "outputs": [],
   "source": [
    "\n",
    "# Load the CSV\n",
    "\n",
    "# Convert 'Birthday' column to the correct format\n",
    "customers_df['Birthday'] = pd.to_datetime(customers_df['Birthday'], format='%m/%d/%Y').dt.strftime('%Y-%m-%d')\n",
    "\n",
    "# Save the updated CSV\n",
    "customers_df.to_csv('C:/ProgramData/MySQL/MySQL Server 8.0/Uploads/datas/Customers_formatted.csv', index=False)\n"
   ]
  },
  {
   "cell_type": "code",
   "execution_count": 11,
   "id": "cdc567f0-9214-4cbf-9c36-1949001283fb",
   "metadata": {},
   "outputs": [
    {
     "name": "stdout",
     "output_type": "stream",
     "text": [
      "   Order Number  Line Item Order Date Delivery Date  CustomerKey  StoreKey  \\\n",
      "0        366000          1   1/1/2016           NaN       265598        10   \n",
      "1        366001          1   1/1/2016     1/13/2016      1269051         0   \n",
      "2        366001          2   1/1/2016     1/13/2016      1269051         0   \n",
      "3        366002          1   1/1/2016     1/12/2016       266019         0   \n",
      "4        366002          2   1/1/2016     1/12/2016       266019         0   \n",
      "\n",
      "   ProductKey  Quantity Currency Code  \n",
      "0        1304         1           CAD  \n",
      "1        1048         2           USD  \n",
      "2        2007         1           USD  \n",
      "3        1106         7           CAD  \n",
      "4         373         1           CAD  \n",
      "Index(['Order Number', 'Line Item', 'Order Date', 'Delivery Date',\n",
      "       'CustomerKey', 'StoreKey', 'ProductKey', 'Quantity', 'Currency Code'],\n",
      "      dtype='object')\n"
     ]
    }
   ],
   "source": [
    "print(sales_df.head())\n",
    "print(sales_df.columns)"
   ]
  },
  {
   "cell_type": "code",
   "execution_count": 12,
   "id": "a61b38f4-bb0f-42ce-9332-8ea250768e45",
   "metadata": {},
   "outputs": [
    {
     "name": "stdout",
     "output_type": "stream",
     "text": [
      "<class 'pandas.core.frame.DataFrame'>\n",
      "RangeIndex: 62884 entries, 0 to 62883\n",
      "Data columns (total 9 columns):\n",
      " #   Column         Non-Null Count  Dtype \n",
      "---  ------         --------------  ----- \n",
      " 0   Order Number   62884 non-null  int64 \n",
      " 1   Line Item      62884 non-null  int64 \n",
      " 2   Order Date     62884 non-null  object\n",
      " 3   Delivery Date  13165 non-null  object\n",
      " 4   CustomerKey    62884 non-null  int64 \n",
      " 5   StoreKey       62884 non-null  int64 \n",
      " 6   ProductKey     62884 non-null  int64 \n",
      " 7   Quantity       62884 non-null  int64 \n",
      " 8   Currency Code  62884 non-null  object\n",
      "dtypes: int64(6), object(3)\n",
      "memory usage: 4.3+ MB\n",
      "None\n"
     ]
    }
   ],
   "source": [
    "print(sales_df.info())"
   ]
  },
  {
   "cell_type": "code",
   "execution_count": 13,
   "id": "3f0b127c-4a18-4c8a-8559-41eff7948118",
   "metadata": {},
   "outputs": [
    {
     "name": "stdout",
     "output_type": "stream",
     "text": [
      "       Order Number     Line Item   CustomerKey      StoreKey    ProductKey  \\\n",
      "count  6.288400e+04  62884.000000  6.288400e+04  62884.000000  62884.000000   \n",
      "mean   1.430905e+06      2.164207  1.180797e+06     31.802144   1125.859344   \n",
      "std    4.532963e+05      1.365170  5.859634e+05     22.978188    709.244010   \n",
      "min    3.660000e+05      1.000000  3.010000e+02      0.000000      1.000000   \n",
      "25%    1.121017e+06      1.000000  6.808580e+05      8.000000    437.000000   \n",
      "50%    1.498016e+06      2.000000  1.261200e+06     37.000000   1358.000000   \n",
      "75%    1.788010e+06      3.000000  1.686496e+06     53.000000   1650.000000   \n",
      "max    2.243032e+06      7.000000  2.099937e+06     66.000000   2517.000000   \n",
      "\n",
      "           Quantity  \n",
      "count  62884.000000  \n",
      "mean       3.144790  \n",
      "std        2.256371  \n",
      "min        1.000000  \n",
      "25%        1.000000  \n",
      "50%        2.000000  \n",
      "75%        4.000000  \n",
      "max       10.000000  \n"
     ]
    }
   ],
   "source": [
    "print(sales_df.describe())"
   ]
  },
  {
   "cell_type": "code",
   "execution_count": 14,
   "id": "a31e3691-85e5-4fc4-a606-e267b9116053",
   "metadata": {},
   "outputs": [
    {
     "name": "stdout",
     "output_type": "stream",
     "text": [
      "       Order Number     Line Item   CustomerKey      StoreKey    ProductKey  \\\n",
      "count  6.288400e+04  62884.000000  6.288400e+04  62884.000000  62884.000000   \n",
      "mean   1.430905e+06      2.164207  1.180797e+06     31.802144   1125.859344   \n",
      "std    4.532963e+05      1.365170  5.859634e+05     22.978188    709.244010   \n",
      "min    3.660000e+05      1.000000  3.010000e+02      0.000000      1.000000   \n",
      "25%    1.121017e+06      1.000000  6.808580e+05      8.000000    437.000000   \n",
      "50%    1.498016e+06      2.000000  1.261200e+06     37.000000   1358.000000   \n",
      "75%    1.788010e+06      3.000000  1.686496e+06     53.000000   1650.000000   \n",
      "max    2.243032e+06      7.000000  2.099937e+06     66.000000   2517.000000   \n",
      "\n",
      "           Quantity  \n",
      "count  62884.000000  \n",
      "mean       3.144790  \n",
      "std        2.256371  \n",
      "min        1.000000  \n",
      "25%        1.000000  \n",
      "50%        2.000000  \n",
      "75%        4.000000  \n",
      "max       10.000000  \n"
     ]
    }
   ],
   "source": [
    "print(sales_df.describe())"
   ]
  },
  {
   "cell_type": "code",
   "execution_count": 15,
   "id": "0e32ac59-3173-4b12-9450-011fae0f0098",
   "metadata": {
    "scrolled": true
   },
   "outputs": [
    {
     "name": "stdout",
     "output_type": "stream",
     "text": [
      "Order Number         0\n",
      "Line Item            0\n",
      "Order Date           0\n",
      "Delivery Date    49719\n",
      "CustomerKey          0\n",
      "StoreKey             0\n",
      "ProductKey           0\n",
      "Quantity             0\n",
      "Currency Code        0\n",
      "dtype: int64\n"
     ]
    }
   ],
   "source": [
    "print(sales_df.isnull().sum())\n"
   ]
  },
  {
   "cell_type": "code",
   "execution_count": 16,
   "id": "3281774b-368c-4f91-a42b-24e74c7aa280",
   "metadata": {},
   "outputs": [
    {
     "name": "stdout",
     "output_type": "stream",
     "text": [
      "'Delivery Date' column exists.\n"
     ]
    }
   ],
   "source": [
    "# Strip spaces from all column names\n",
    "sales_df.columns = sales_df.columns.str.strip()\n",
    "\n",
    "# Now check if 'Delivery Date' exists\n",
    "if 'Delivery Date' in sales_df.columns:\n",
    "    print(\"'Delivery Date' column exists.\")\n",
    "else:\n",
    "    print(\"No 'Delivery Date' column found. Check for similar names:\", sales_df.columns)\n"
   ]
  },
  {
   "cell_type": "code",
   "execution_count": 17,
   "id": "f12b68b4-6a71-4880-8786-1e219b7481a6",
   "metadata": {},
   "outputs": [
    {
     "name": "stdout",
     "output_type": "stream",
     "text": [
      "'Delivery Date' column dropped successfully.\n"
     ]
    }
   ],
   "source": [
    "if 'Delivery Date' in sales_df.columns:\n",
    "    sales_df.drop('Delivery Date', axis=1, inplace=True)\n",
    "    print(\"'Delivery Date' column dropped successfully.\")\n",
    "else:\n",
    "    print(\"'Delivery Date' column not found.\")\n",
    "sales_df['Currency Code'] = pd.Categorical(sales_df['Currency Code'])\n"
   ]
  },
  {
   "cell_type": "code",
   "execution_count": 18,
   "id": "a65b3e2c-30b6-4116-9f1c-5777940f7950",
   "metadata": {},
   "outputs": [
    {
     "name": "stdout",
     "output_type": "stream",
     "text": [
      "0\n",
      "<class 'pandas.core.frame.DataFrame'>\n",
      "RangeIndex: 62884 entries, 0 to 62883\n",
      "Data columns (total 8 columns):\n",
      " #   Column         Non-Null Count  Dtype         \n",
      "---  ------         --------------  -----         \n",
      " 0   Order Number   62884 non-null  int64         \n",
      " 1   Line Item      62884 non-null  int64         \n",
      " 2   Order Date     62884 non-null  datetime64[ns]\n",
      " 3   CustomerKey    62884 non-null  int64         \n",
      " 4   StoreKey       62884 non-null  int64         \n",
      " 5   ProductKey     62884 non-null  int64         \n",
      " 6   Quantity       62884 non-null  int64         \n",
      " 7   Currency Code  62884 non-null  category      \n",
      "dtypes: category(1), datetime64[ns](1), int64(6)\n",
      "memory usage: 3.4 MB\n",
      "None\n"
     ]
    }
   ],
   "source": [
    "sales_df['Order Date'] = pd.to_datetime(sales_df['Order Date'], errors='coerce')\n",
    "print(sales_df['Order Date'].isnull().sum())  # Check how many missing values\n",
    "sales_df['Order Date'] = sales_df['Order Date'].fillna(pd.Timestamp('2023-01-01'))  # Fill with a default date\n",
    "print(sales_df.info())"
   ]
  },
  {
   "cell_type": "code",
   "execution_count": 19,
   "id": "edc111da-81d0-4cee-9bb3-8af0ecc6a5d3",
   "metadata": {},
   "outputs": [],
   "source": [
    "sales_df.to_csv('C:/ProgramData/MySQL/MySQL Server 8.0/Uploads/datas/sales_formatted.csv', index=False)\n"
   ]
  },
  {
   "cell_type": "code",
   "execution_count": 20,
   "id": "5202cc7e-80c1-4d13-ae9c-2169962d25fc",
   "metadata": {},
   "outputs": [
    {
     "name": "stdout",
     "output_type": "stream",
     "text": [
      "Order Number     0\n",
      "Line Item        0\n",
      "Order Date       0\n",
      "CustomerKey      0\n",
      "StoreKey         0\n",
      "ProductKey       0\n",
      "Quantity         0\n",
      "Currency Code    0\n",
      "dtype: int64\n"
     ]
    }
   ],
   "source": [
    "print(sales_df.isnull().sum())"
   ]
  },
  {
   "cell_type": "code",
   "execution_count": 21,
   "id": "b5e1701e-8609-4121-9d5d-620c6ee0fcdf",
   "metadata": {},
   "outputs": [
    {
     "name": "stdout",
     "output_type": "stream",
     "text": [
      "   ProductKey                         Product Name    Brand   Color  \\\n",
      "0           1  Contoso 512MB MP3 Player E51 Silver  Contoso  Silver   \n",
      "1           2    Contoso 512MB MP3 Player E51 Blue  Contoso    Blue   \n",
      "2           3     Contoso 1G MP3 Player E100 White  Contoso   White   \n",
      "3           4    Contoso 2G MP3 Player E200 Silver  Contoso  Silver   \n",
      "4           5       Contoso 2G MP3 Player E200 Red  Contoso     Red   \n",
      "\n",
      "  Unit Cost USD Unit Price USD  SubcategoryKey Subcategory  CategoryKey  \\\n",
      "0        $6.62         $12.99              101     MP4&MP3            1   \n",
      "1        $6.62         $12.99              101     MP4&MP3            1   \n",
      "2        $7.40         $14.52              101     MP4&MP3            1   \n",
      "3       $11.00         $21.57              101     MP4&MP3            1   \n",
      "4       $11.00         $21.57              101     MP4&MP3            1   \n",
      "\n",
      "  Category  \n",
      "0    Audio  \n",
      "1    Audio  \n",
      "2    Audio  \n",
      "3    Audio  \n",
      "4    Audio  \n"
     ]
    }
   ],
   "source": [
    "print(products_df.head())"
   ]
  },
  {
   "cell_type": "code",
   "execution_count": 22,
   "id": "3d7f53d3-a14b-4a60-aeb2-73162c1e08d7",
   "metadata": {},
   "outputs": [
    {
     "name": "stdout",
     "output_type": "stream",
     "text": [
      "<class 'pandas.core.frame.DataFrame'>\n",
      "RangeIndex: 2517 entries, 0 to 2516\n",
      "Data columns (total 10 columns):\n",
      " #   Column          Non-Null Count  Dtype \n",
      "---  ------          --------------  ----- \n",
      " 0   ProductKey      2517 non-null   int64 \n",
      " 1   Product Name    2517 non-null   object\n",
      " 2   Brand           2517 non-null   object\n",
      " 3   Color           2517 non-null   object\n",
      " 4   Unit Cost USD   2517 non-null   object\n",
      " 5   Unit Price USD  2517 non-null   object\n",
      " 6   SubcategoryKey  2517 non-null   int64 \n",
      " 7   Subcategory     2517 non-null   object\n",
      " 8   CategoryKey     2517 non-null   int64 \n",
      " 9   Category        2517 non-null   object\n",
      "dtypes: int64(3), object(7)\n",
      "memory usage: 196.8+ KB\n",
      "None\n"
     ]
    }
   ],
   "source": [
    "print(products_df.info())"
   ]
  },
  {
   "cell_type": "code",
   "execution_count": 23,
   "id": "43e421a2-d8dd-458d-8a75-1a1f2652f211",
   "metadata": {},
   "outputs": [
    {
     "name": "stdout",
     "output_type": "stream",
     "text": [
      "Index(['ProductKey', 'Product Name', 'Brand', 'Color', 'Unit Cost USD',\n",
      "       'Unit Price USD', 'SubcategoryKey', 'Subcategory', 'CategoryKey',\n",
      "       'Category'],\n",
      "      dtype='object')\n"
     ]
    }
   ],
   "source": [
    "print(products_df.columns)\n"
   ]
  },
  {
   "cell_type": "code",
   "execution_count": 24,
   "id": "55a6f831-11a5-4bb9-bc54-be20eef8c9e6",
   "metadata": {},
   "outputs": [
    {
     "name": "stdout",
     "output_type": "stream",
     "text": [
      "        ProductKey  SubcategoryKey  CategoryKey\n",
      "count  2517.000000     2517.000000  2517.000000\n",
      "mean   1259.000000      491.810091     4.878824\n",
      "std     726.739637      229.887134     2.299170\n",
      "min       1.000000      101.000000     1.000000\n",
      "25%     630.000000      305.000000     3.000000\n",
      "50%    1259.000000      406.000000     4.000000\n",
      "75%    1888.000000      801.000000     8.000000\n",
      "max    2517.000000      808.000000     8.000000\n"
     ]
    }
   ],
   "source": [
    "print(products_df.describe())"
   ]
  },
  {
   "cell_type": "code",
   "execution_count": 25,
   "id": "3f09cef9-9ec3-4abf-a797-ee50e9b7ce0a",
   "metadata": {},
   "outputs": [
    {
     "name": "stdout",
     "output_type": "stream",
     "text": [
      "ProductKey        0\n",
      "Product Name      0\n",
      "Brand             0\n",
      "Color             0\n",
      "Unit Cost USD     0\n",
      "Unit Price USD    0\n",
      "SubcategoryKey    0\n",
      "Subcategory       0\n",
      "CategoryKey       0\n",
      "Category          0\n",
      "dtype: int64\n"
     ]
    }
   ],
   "source": [
    "print(products_df.isnull().sum())"
   ]
  },
  {
   "cell_type": "code",
   "execution_count": 26,
   "id": "f4ef60c5-8baa-4859-addb-98bf3042effa",
   "metadata": {},
   "outputs": [],
   "source": [
    "products_df['Unit Cost USD'] = products_df['Unit Cost USD'].replace('[/$,]', '', regex=True).astype(float)\n",
    "products_df['Unit Price USD'] = products_df['Unit Price USD'].replace('[/$,]', '', regex=True).astype(float)"
   ]
  },
  {
   "cell_type": "code",
   "execution_count": 27,
   "id": "3519fa61-0fae-4e20-ab62-2ef4719c7358",
   "metadata": {},
   "outputs": [
    {
     "name": "stdout",
     "output_type": "stream",
     "text": [
      "<class 'pandas.core.frame.DataFrame'>\n",
      "RangeIndex: 2517 entries, 0 to 2516\n",
      "Data columns (total 10 columns):\n",
      " #   Column          Non-Null Count  Dtype  \n",
      "---  ------          --------------  -----  \n",
      " 0   ProductKey      2517 non-null   int64  \n",
      " 1   Product Name    2517 non-null   object \n",
      " 2   Brand           2517 non-null   object \n",
      " 3   Color           2517 non-null   object \n",
      " 4   Unit Cost USD   2517 non-null   float64\n",
      " 5   Unit Price USD  2517 non-null   float64\n",
      " 6   SubcategoryKey  2517 non-null   int64  \n",
      " 7   Subcategory     2517 non-null   object \n",
      " 8   CategoryKey     2517 non-null   int64  \n",
      " 9   Category        2517 non-null   object \n",
      "dtypes: float64(2), int64(3), object(5)\n",
      "memory usage: 196.8+ KB\n",
      "None\n"
     ]
    },
    {
     "data": {
      "text/plain": [
       "ProductKey          int64\n",
       "Product Name       object\n",
       "Brand              object\n",
       "Color              object\n",
       "Unit Cost USD     float64\n",
       "Unit Price USD    float64\n",
       "SubcategoryKey      int64\n",
       "Subcategory        object\n",
       "CategoryKey         int64\n",
       "Category           object\n",
       "dtype: object"
      ]
     },
     "execution_count": 27,
     "metadata": {},
     "output_type": "execute_result"
    }
   ],
   "source": [
    "print(products_df.info())\n",
    "products_df.dtypes\n"
   ]
  },
  {
   "cell_type": "code",
   "execution_count": 28,
   "id": "24d5bc27-ff80-4a17-8d61-244694208854",
   "metadata": {},
   "outputs": [
    {
     "name": "stdout",
     "output_type": "stream",
     "text": [
      "   StoreKey    Country                         State  Square Meters  Open Date\n",
      "0         1  Australia  Australian Capital Territory          595.0   1/1/2008\n",
      "1         2  Australia            Northern Territory          665.0  1/12/2008\n",
      "2         3  Australia               South Australia         2000.0   1/7/2012\n",
      "3         4  Australia                      Tasmania         2000.0   1/1/2010\n",
      "4         5  Australia                      Victoria         2000.0  12/9/2015\n"
     ]
    }
   ],
   "source": [
    "print(stores_df.head())"
   ]
  },
  {
   "cell_type": "code",
   "execution_count": 29,
   "id": "ebb4c485-fdc2-4403-8dba-fc9bc09f516b",
   "metadata": {},
   "outputs": [
    {
     "name": "stdout",
     "output_type": "stream",
     "text": [
      "StoreKey         0\n",
      "Country          0\n",
      "State            0\n",
      "Square Meters    1\n",
      "Open Date        0\n",
      "dtype: int64\n"
     ]
    }
   ],
   "source": [
    "print(stores_df.isnull().sum())"
   ]
  },
  {
   "cell_type": "code",
   "execution_count": 30,
   "id": "0f5265ef-901b-4e42-9a57-11a11df871dd",
   "metadata": {},
   "outputs": [
    {
     "name": "stdout",
     "output_type": "stream",
     "text": [
      "0\n"
     ]
    }
   ],
   "source": [
    "\n",
    "# Cast the 'Square Meters' column to a string type, then fill missing values\n",
    "stores_df['Square Meters'] = stores_df['Square Meters'].astype(str).fillna('Unknown')\n",
    "# Fill missing values with 0 or another appropriate numeric value\n",
    "stores_df['Square Meters'] = stores_df['Square Meters'].fillna(0)\n",
    "\n",
    "print(stores_df['Square Meters'].isnull().sum())\n"
   ]
  },
  {
   "cell_type": "code",
   "execution_count": 31,
   "id": "e066ec64-844a-4da5-a1e9-c0b9f8c4ad1e",
   "metadata": {},
   "outputs": [
    {
     "name": "stdout",
     "output_type": "stream",
     "text": [
      "        StoreKey\n",
      "count  67.000000\n",
      "mean   33.000000\n",
      "std    19.485037\n",
      "min     0.000000\n",
      "25%    16.500000\n",
      "50%    33.000000\n",
      "75%    49.500000\n",
      "max    66.000000\n"
     ]
    }
   ],
   "source": [
    "print(stores_df.describe())"
   ]
  },
  {
   "cell_type": "code",
   "execution_count": 32,
   "id": "5c976799-f6e1-40a1-ab01-ac40cc6ff53f",
   "metadata": {},
   "outputs": [
    {
     "name": "stdout",
     "output_type": "stream",
     "text": [
      "<class 'pandas.core.frame.DataFrame'>\n",
      "RangeIndex: 67 entries, 0 to 66\n",
      "Data columns (total 5 columns):\n",
      " #   Column         Non-Null Count  Dtype \n",
      "---  ------         --------------  ----- \n",
      " 0   StoreKey       67 non-null     int64 \n",
      " 1   Country        67 non-null     object\n",
      " 2   State          67 non-null     object\n",
      " 3   Square Meters  67 non-null     object\n",
      " 4   Open Date      67 non-null     object\n",
      "dtypes: int64(1), object(4)\n",
      "memory usage: 2.7+ KB\n",
      "None\n",
      "StoreKey          int64\n",
      "Country          object\n",
      "State            object\n",
      "Square Meters    object\n",
      "Open Date        object\n",
      "dtype: object\n"
     ]
    }
   ],
   "source": [
    "print(stores_df.info())\n",
    "print(stores_df.dtypes)"
   ]
  },
  {
   "cell_type": "code",
   "execution_count": 33,
   "id": "94a4a645-d8e1-4f78-9f4c-975968ea4716",
   "metadata": {},
   "outputs": [
    {
     "name": "stdout",
     "output_type": "stream",
     "text": [
      "Index(['StoreKey', 'Country', 'State', 'Square Meters', 'Open Date'], dtype='object')\n"
     ]
    }
   ],
   "source": [
    "\n",
    "print(stores_df.columns)"
   ]
  },
  {
   "cell_type": "code",
   "execution_count": 34,
   "id": "9043bdc8-73d5-4e32-bb72-40d93530f20e",
   "metadata": {},
   "outputs": [
    {
     "name": "stdout",
     "output_type": "stream",
     "text": [
      "         Date Currency Code  Exchange\n",
      "0  01-01-2015           USD    1.0000\n",
      "1  01-01-2015           CAD    1.1583\n",
      "2  01-01-2015           AUD    1.2214\n",
      "3  01-01-2015           EUR    0.8237\n",
      "4  01-01-2015           GBP    0.6415\n"
     ]
    }
   ],
   "source": [
    "print(exchangerates_df.head())"
   ]
  },
  {
   "cell_type": "code",
   "execution_count": 35,
   "id": "d1858684-5aa3-4bb2-b9c4-b56d92186b9d",
   "metadata": {},
   "outputs": [
    {
     "name": "stdout",
     "output_type": "stream",
     "text": [
      "Date             0\n",
      "Currency Code    0\n",
      "Exchange         0\n",
      "dtype: int64\n"
     ]
    }
   ],
   "source": [
    "print(exchangerates_df.isnull().sum())"
   ]
  },
  {
   "cell_type": "code",
   "execution_count": 36,
   "id": "4b7bed29-9aef-492b-ba18-339c664c3167",
   "metadata": {},
   "outputs": [
    {
     "name": "stdout",
     "output_type": "stream",
     "text": [
      "           Exchange\n",
      "count  11215.000000\n",
      "mean       1.061682\n",
      "std        0.245519\n",
      "min        0.628500\n",
      "25%        0.857800\n",
      "50%        1.000000\n",
      "75%        1.311900\n",
      "max        1.725300\n"
     ]
    }
   ],
   "source": [
    "print(exchangerates_df.describe())"
   ]
  },
  {
   "cell_type": "code",
   "execution_count": 37,
   "id": "37f423c9-0174-4c7b-8bf2-296fef020f4e",
   "metadata": {},
   "outputs": [],
   "source": [
    "exchangerates_df['Date'] = pd.to_datetime(exchangerates_df['Date'], format='%m/%d/%Y', errors='coerce')\n"
   ]
  },
  {
   "cell_type": "code",
   "execution_count": 38,
   "id": "a2c0bbe3-41f9-4790-ba23-822f85c07258",
   "metadata": {},
   "outputs": [
    {
     "name": "stdout",
     "output_type": "stream",
     "text": [
      "<class 'pandas.core.frame.DataFrame'>\n",
      "RangeIndex: 11215 entries, 0 to 11214\n",
      "Data columns (total 3 columns):\n",
      " #   Column         Non-Null Count  Dtype         \n",
      "---  ------         --------------  -----         \n",
      " 0   Date           6775 non-null   datetime64[ns]\n",
      " 1   Currency Code  11215 non-null  object        \n",
      " 2   Exchange       11215 non-null  float64       \n",
      "dtypes: datetime64[ns](1), float64(1), object(1)\n",
      "memory usage: 263.0+ KB\n",
      "None\n",
      "Date             datetime64[ns]\n",
      "Currency Code            object\n",
      "Exchange                float64\n",
      "dtype: object\n"
     ]
    }
   ],
   "source": [
    "print(exchangerates_df.info())\n",
    "print(exchangerates_df.dtypes)"
   ]
  },
  {
   "cell_type": "code",
   "execution_count": 39,
   "id": "b5888c7e-8822-4d18-b6e4-d5f448918c43",
   "metadata": {},
   "outputs": [
    {
     "name": "stdout",
     "output_type": "stream",
     "text": [
      "0\n",
      "0\n",
      "0\n",
      "0\n",
      "2363\n"
     ]
    }
   ],
   "source": [
    "# Check for duplicates\n",
    "print(customers_df.duplicated().sum())\n",
    "print(sales_df.duplicated().sum())\n",
    "print(stores_df.duplicated().sum())\n",
    "print(products_df.duplicated().sum())\n",
    "print(exchangerates_df.duplicated().sum())\n"
   ]
  },
  {
   "cell_type": "code",
   "execution_count": 40,
   "id": "c0eadcf8-2068-40af-ad51-208c29d89dc5",
   "metadata": {},
   "outputs": [],
   "source": [
    "#MERGING DATASETS\n"
   ]
  },
  {
   "cell_type": "code",
   "execution_count": 41,
   "id": "04ac8763-a311-4d6d-a5d3-1816fd629ac1",
   "metadata": {},
   "outputs": [],
   "source": [
    "# Select specific columns from customer_df to include\n",
    "merged_df = pd.merge(sales_df, customers_df[['CustomerKey', 'Name', 'Gender']], on='CustomerKey', how='left')\n",
    "merged_df = pd.merge(merged_df, products_df[['ProductKey', 'Product Name', 'Brand', 'Category']], on='ProductKey', how='left')\n",
    "merged_df = pd.merge(merged_df, stores_df[['StoreKey', 'Country', 'State', 'Square Meters']], on='StoreKey', how='left')\n"
   ]
  },
  {
   "cell_type": "code",
   "execution_count": 42,
   "id": "3e8f06be-e05d-4fa4-a2fa-0e1bd9c4b233",
   "metadata": {},
   "outputs": [
    {
     "data": {
      "text/html": [
       "<div>\n",
       "<style scoped>\n",
       "    .dataframe tbody tr th:only-of-type {\n",
       "        vertical-align: middle;\n",
       "    }\n",
       "\n",
       "    .dataframe tbody tr th {\n",
       "        vertical-align: top;\n",
       "    }\n",
       "\n",
       "    .dataframe thead th {\n",
       "        text-align: right;\n",
       "    }\n",
       "</style>\n",
       "<table border=\"1\" class=\"dataframe\">\n",
       "  <thead>\n",
       "    <tr style=\"text-align: right;\">\n",
       "      <th></th>\n",
       "      <th>Order Number</th>\n",
       "      <th>Line Item</th>\n",
       "      <th>Order Date</th>\n",
       "      <th>CustomerKey</th>\n",
       "      <th>StoreKey</th>\n",
       "      <th>ProductKey</th>\n",
       "      <th>Quantity</th>\n",
       "      <th>Currency Code</th>\n",
       "      <th>Name</th>\n",
       "      <th>Gender</th>\n",
       "      <th>Product Name</th>\n",
       "      <th>Brand</th>\n",
       "      <th>Category</th>\n",
       "      <th>Country</th>\n",
       "      <th>State</th>\n",
       "      <th>Square Meters</th>\n",
       "    </tr>\n",
       "  </thead>\n",
       "  <tbody>\n",
       "    <tr>\n",
       "      <th>0</th>\n",
       "      <td>366000</td>\n",
       "      <td>1</td>\n",
       "      <td>2016-01-01</td>\n",
       "      <td>265598</td>\n",
       "      <td>10</td>\n",
       "      <td>1304</td>\n",
       "      <td>1</td>\n",
       "      <td>CAD</td>\n",
       "      <td>Tyler Vaught</td>\n",
       "      <td>Male</td>\n",
       "      <td>Contoso Lens Adapter M450 White</td>\n",
       "      <td>Contoso</td>\n",
       "      <td>Cameras and camcorders</td>\n",
       "      <td>Canada</td>\n",
       "      <td>Nunavut</td>\n",
       "      <td>1210.0</td>\n",
       "    </tr>\n",
       "    <tr>\n",
       "      <th>1</th>\n",
       "      <td>366001</td>\n",
       "      <td>1</td>\n",
       "      <td>2016-01-01</td>\n",
       "      <td>1269051</td>\n",
       "      <td>0</td>\n",
       "      <td>1048</td>\n",
       "      <td>2</td>\n",
       "      <td>USD</td>\n",
       "      <td>Frank Upchurch</td>\n",
       "      <td>Male</td>\n",
       "      <td>A. Datum SLR Camera X136 Silver</td>\n",
       "      <td>A. Datum</td>\n",
       "      <td>Cameras and camcorders</td>\n",
       "      <td>Online</td>\n",
       "      <td>Online</td>\n",
       "      <td>nan</td>\n",
       "    </tr>\n",
       "    <tr>\n",
       "      <th>2</th>\n",
       "      <td>366001</td>\n",
       "      <td>2</td>\n",
       "      <td>2016-01-01</td>\n",
       "      <td>1269051</td>\n",
       "      <td>0</td>\n",
       "      <td>2007</td>\n",
       "      <td>1</td>\n",
       "      <td>USD</td>\n",
       "      <td>Frank Upchurch</td>\n",
       "      <td>Male</td>\n",
       "      <td>Fabrikam Microwave 1.5CuFt X1100 Black</td>\n",
       "      <td>Fabrikam</td>\n",
       "      <td>Home Appliances</td>\n",
       "      <td>Online</td>\n",
       "      <td>Online</td>\n",
       "      <td>nan</td>\n",
       "    </tr>\n",
       "    <tr>\n",
       "      <th>3</th>\n",
       "      <td>366002</td>\n",
       "      <td>1</td>\n",
       "      <td>2016-01-01</td>\n",
       "      <td>266019</td>\n",
       "      <td>0</td>\n",
       "      <td>1106</td>\n",
       "      <td>7</td>\n",
       "      <td>CAD</td>\n",
       "      <td>Joan Roche</td>\n",
       "      <td>Female</td>\n",
       "      <td>Contoso SLR Camera M146 Orange</td>\n",
       "      <td>Contoso</td>\n",
       "      <td>Cameras and camcorders</td>\n",
       "      <td>Online</td>\n",
       "      <td>Online</td>\n",
       "      <td>nan</td>\n",
       "    </tr>\n",
       "    <tr>\n",
       "      <th>4</th>\n",
       "      <td>366002</td>\n",
       "      <td>2</td>\n",
       "      <td>2016-01-01</td>\n",
       "      <td>266019</td>\n",
       "      <td>0</td>\n",
       "      <td>373</td>\n",
       "      <td>1</td>\n",
       "      <td>CAD</td>\n",
       "      <td>Joan Roche</td>\n",
       "      <td>Female</td>\n",
       "      <td>Adventure Works Laptop8.9 E0890 White</td>\n",
       "      <td>Adventure Works</td>\n",
       "      <td>Computers</td>\n",
       "      <td>Online</td>\n",
       "      <td>Online</td>\n",
       "      <td>nan</td>\n",
       "    </tr>\n",
       "    <tr>\n",
       "      <th>...</th>\n",
       "      <td>...</td>\n",
       "      <td>...</td>\n",
       "      <td>...</td>\n",
       "      <td>...</td>\n",
       "      <td>...</td>\n",
       "      <td>...</td>\n",
       "      <td>...</td>\n",
       "      <td>...</td>\n",
       "      <td>...</td>\n",
       "      <td>...</td>\n",
       "      <td>...</td>\n",
       "      <td>...</td>\n",
       "      <td>...</td>\n",
       "      <td>...</td>\n",
       "      <td>...</td>\n",
       "      <td>...</td>\n",
       "    </tr>\n",
       "    <tr>\n",
       "      <th>62879</th>\n",
       "      <td>2243030</td>\n",
       "      <td>1</td>\n",
       "      <td>2021-02-20</td>\n",
       "      <td>1216913</td>\n",
       "      <td>43</td>\n",
       "      <td>632</td>\n",
       "      <td>3</td>\n",
       "      <td>USD</td>\n",
       "      <td>Donald Woodie</td>\n",
       "      <td>Male</td>\n",
       "      <td>WWI Screen 85in E1010 White</td>\n",
       "      <td>Wide World Importers</td>\n",
       "      <td>Computers</td>\n",
       "      <td>United States</td>\n",
       "      <td>Alaska</td>\n",
       "      <td>1190.0</td>\n",
       "    </tr>\n",
       "    <tr>\n",
       "      <th>62880</th>\n",
       "      <td>2243031</td>\n",
       "      <td>1</td>\n",
       "      <td>2021-02-20</td>\n",
       "      <td>511229</td>\n",
       "      <td>0</td>\n",
       "      <td>98</td>\n",
       "      <td>4</td>\n",
       "      <td>EUR</td>\n",
       "      <td>Gabriele Thalberg</td>\n",
       "      <td>Female</td>\n",
       "      <td>WWI Wireless Bluetooth Stereo Headphones M170 ...</td>\n",
       "      <td>Wide World Importers</td>\n",
       "      <td>Audio</td>\n",
       "      <td>Online</td>\n",
       "      <td>Online</td>\n",
       "      <td>nan</td>\n",
       "    </tr>\n",
       "    <tr>\n",
       "      <th>62881</th>\n",
       "      <td>2243032</td>\n",
       "      <td>1</td>\n",
       "      <td>2021-02-20</td>\n",
       "      <td>331277</td>\n",
       "      <td>0</td>\n",
       "      <td>1613</td>\n",
       "      <td>2</td>\n",
       "      <td>CAD</td>\n",
       "      <td>William Rochelle</td>\n",
       "      <td>Male</td>\n",
       "      <td>SV DVD 7-Inch Player Portable E200 White</td>\n",
       "      <td>Southridge Video</td>\n",
       "      <td>Music, Movies and Audio Books</td>\n",
       "      <td>Online</td>\n",
       "      <td>Online</td>\n",
       "      <td>nan</td>\n",
       "    </tr>\n",
       "    <tr>\n",
       "      <th>62882</th>\n",
       "      <td>2243032</td>\n",
       "      <td>2</td>\n",
       "      <td>2021-02-20</td>\n",
       "      <td>331277</td>\n",
       "      <td>0</td>\n",
       "      <td>1717</td>\n",
       "      <td>2</td>\n",
       "      <td>CAD</td>\n",
       "      <td>William Rochelle</td>\n",
       "      <td>Male</td>\n",
       "      <td>MGS Flight Simulator X M250</td>\n",
       "      <td>Tailspin Toys</td>\n",
       "      <td>Games and Toys</td>\n",
       "      <td>Online</td>\n",
       "      <td>Online</td>\n",
       "      <td>nan</td>\n",
       "    </tr>\n",
       "    <tr>\n",
       "      <th>62883</th>\n",
       "      <td>2243032</td>\n",
       "      <td>3</td>\n",
       "      <td>2021-02-20</td>\n",
       "      <td>331277</td>\n",
       "      <td>0</td>\n",
       "      <td>464</td>\n",
       "      <td>7</td>\n",
       "      <td>CAD</td>\n",
       "      <td>William Rochelle</td>\n",
       "      <td>Male</td>\n",
       "      <td>Proseware LCD22W M2001 Black</td>\n",
       "      <td>Proseware</td>\n",
       "      <td>Computers</td>\n",
       "      <td>Online</td>\n",
       "      <td>Online</td>\n",
       "      <td>nan</td>\n",
       "    </tr>\n",
       "  </tbody>\n",
       "</table>\n",
       "<p>62884 rows × 16 columns</p>\n",
       "</div>"
      ],
      "text/plain": [
       "       Order Number  Line Item Order Date  CustomerKey  StoreKey  ProductKey  \\\n",
       "0            366000          1 2016-01-01       265598        10        1304   \n",
       "1            366001          1 2016-01-01      1269051         0        1048   \n",
       "2            366001          2 2016-01-01      1269051         0        2007   \n",
       "3            366002          1 2016-01-01       266019         0        1106   \n",
       "4            366002          2 2016-01-01       266019         0         373   \n",
       "...             ...        ...        ...          ...       ...         ...   \n",
       "62879       2243030          1 2021-02-20      1216913        43         632   \n",
       "62880       2243031          1 2021-02-20       511229         0          98   \n",
       "62881       2243032          1 2021-02-20       331277         0        1613   \n",
       "62882       2243032          2 2021-02-20       331277         0        1717   \n",
       "62883       2243032          3 2021-02-20       331277         0         464   \n",
       "\n",
       "       Quantity Currency Code               Name  Gender  \\\n",
       "0             1           CAD       Tyler Vaught    Male   \n",
       "1             2           USD     Frank Upchurch    Male   \n",
       "2             1           USD     Frank Upchurch    Male   \n",
       "3             7           CAD         Joan Roche  Female   \n",
       "4             1           CAD         Joan Roche  Female   \n",
       "...         ...           ...                ...     ...   \n",
       "62879         3           USD      Donald Woodie    Male   \n",
       "62880         4           EUR  Gabriele Thalberg  Female   \n",
       "62881         2           CAD   William Rochelle    Male   \n",
       "62882         2           CAD   William Rochelle    Male   \n",
       "62883         7           CAD   William Rochelle    Male   \n",
       "\n",
       "                                            Product Name  \\\n",
       "0                        Contoso Lens Adapter M450 White   \n",
       "1                        A. Datum SLR Camera X136 Silver   \n",
       "2                 Fabrikam Microwave 1.5CuFt X1100 Black   \n",
       "3                         Contoso SLR Camera M146 Orange   \n",
       "4                  Adventure Works Laptop8.9 E0890 White   \n",
       "...                                                  ...   \n",
       "62879                        WWI Screen 85in E1010 White   \n",
       "62880  WWI Wireless Bluetooth Stereo Headphones M170 ...   \n",
       "62881           SV DVD 7-Inch Player Portable E200 White   \n",
       "62882                        MGS Flight Simulator X M250   \n",
       "62883                       Proseware LCD22W M2001 Black   \n",
       "\n",
       "                      Brand                       Category        Country  \\\n",
       "0                   Contoso         Cameras and camcorders         Canada   \n",
       "1                  A. Datum         Cameras and camcorders         Online   \n",
       "2                  Fabrikam                Home Appliances         Online   \n",
       "3                   Contoso         Cameras and camcorders         Online   \n",
       "4           Adventure Works                      Computers         Online   \n",
       "...                     ...                            ...            ...   \n",
       "62879  Wide World Importers                      Computers  United States   \n",
       "62880  Wide World Importers                          Audio         Online   \n",
       "62881      Southridge Video  Music, Movies and Audio Books         Online   \n",
       "62882         Tailspin Toys                 Games and Toys         Online   \n",
       "62883             Proseware                      Computers         Online   \n",
       "\n",
       "         State Square Meters  \n",
       "0      Nunavut        1210.0  \n",
       "1       Online           nan  \n",
       "2       Online           nan  \n",
       "3       Online           nan  \n",
       "4       Online           nan  \n",
       "...        ...           ...  \n",
       "62879   Alaska        1190.0  \n",
       "62880   Online           nan  \n",
       "62881   Online           nan  \n",
       "62882   Online           nan  \n",
       "62883   Online           nan  \n",
       "\n",
       "[62884 rows x 16 columns]"
      ]
     },
     "execution_count": 42,
     "metadata": {},
     "output_type": "execute_result"
    }
   ],
   "source": [
    "merged_df"
   ]
  },
  {
   "cell_type": "code",
   "execution_count": 43,
   "id": "59865790-8cbf-4238-b8ed-51ff58e22cec",
   "metadata": {},
   "outputs": [
    {
     "name": "stdout",
     "output_type": "stream",
     "text": [
      "   Order Number  Line Item Order Date  CustomerKey  StoreKey  ProductKey  \\\n",
      "0        366000          1 2016-01-01       265598        10        1304   \n",
      "1        366001          1 2016-01-01      1269051         0        1048   \n",
      "2        366001          2 2016-01-01      1269051         0        2007   \n",
      "3        366002          1 2016-01-01       266019         0        1106   \n",
      "4        366002          2 2016-01-01       266019         0         373   \n",
      "\n",
      "   Quantity Currency Code            Name  Gender  \\\n",
      "0         1           CAD    Tyler Vaught    Male   \n",
      "1         2           USD  Frank Upchurch    Male   \n",
      "2         1           USD  Frank Upchurch    Male   \n",
      "3         7           CAD      Joan Roche  Female   \n",
      "4         1           CAD      Joan Roche  Female   \n",
      "\n",
      "                             Product Name            Brand  \\\n",
      "0         Contoso Lens Adapter M450 White          Contoso   \n",
      "1         A. Datum SLR Camera X136 Silver         A. Datum   \n",
      "2  Fabrikam Microwave 1.5CuFt X1100 Black         Fabrikam   \n",
      "3          Contoso SLR Camera M146 Orange          Contoso   \n",
      "4   Adventure Works Laptop8.9 E0890 White  Adventure Works   \n",
      "\n",
      "                 Category Country    State Square Meters  \n",
      "0  Cameras and camcorders  Canada  Nunavut        1210.0  \n",
      "1  Cameras and camcorders  Online   Online           nan  \n",
      "2         Home Appliances  Online   Online           nan  \n",
      "3  Cameras and camcorders  Online   Online           nan  \n",
      "4               Computers  Online   Online           nan  \n",
      "<class 'pandas.core.frame.DataFrame'>\n",
      "RangeIndex: 62884 entries, 0 to 62883\n",
      "Data columns (total 16 columns):\n",
      " #   Column         Non-Null Count  Dtype         \n",
      "---  ------         --------------  -----         \n",
      " 0   Order Number   62884 non-null  int64         \n",
      " 1   Line Item      62884 non-null  int64         \n",
      " 2   Order Date     62884 non-null  datetime64[ns]\n",
      " 3   CustomerKey    62884 non-null  int64         \n",
      " 4   StoreKey       62884 non-null  int64         \n",
      " 5   ProductKey     62884 non-null  int64         \n",
      " 6   Quantity       62884 non-null  int64         \n",
      " 7   Currency Code  62884 non-null  category      \n",
      " 8   Name           62884 non-null  object        \n",
      " 9   Gender         62884 non-null  category      \n",
      " 10  Product Name   62884 non-null  object        \n",
      " 11  Brand          62884 non-null  object        \n",
      " 12  Category       62884 non-null  object        \n",
      " 13  Country        62884 non-null  object        \n",
      " 14  State          62884 non-null  object        \n",
      " 15  Square Meters  62884 non-null  object        \n",
      "dtypes: category(2), datetime64[ns](1), int64(6), object(7)\n",
      "memory usage: 6.8+ MB\n",
      "None\n"
     ]
    }
   ],
   "source": [
    "print(merged_df.head())\n",
    "print(merged_df.info())"
   ]
  },
  {
   "cell_type": "code",
   "execution_count": 44,
   "id": "2754d933-4269-4480-9012-9f9430d3b2c7",
   "metadata": {},
   "outputs": [
    {
     "name": "stdout",
     "output_type": "stream",
     "text": [
      "<class 'pandas.core.frame.DataFrame'>\n",
      "RangeIndex: 62884 entries, 0 to 62883\n",
      "Data columns (total 16 columns):\n",
      " #   Column         Non-Null Count  Dtype         \n",
      "---  ------         --------------  -----         \n",
      " 0   Order Number   62884 non-null  int64         \n",
      " 1   Line Item      62884 non-null  int64         \n",
      " 2   Order Date     62884 non-null  datetime64[ns]\n",
      " 3   CustomerKey    62884 non-null  int64         \n",
      " 4   StoreKey       62884 non-null  int64         \n",
      " 5   ProductKey     62884 non-null  int64         \n",
      " 6   Quantity       62884 non-null  int64         \n",
      " 7   Currency Code  62884 non-null  category      \n",
      " 8   Name           62884 non-null  object        \n",
      " 9   Gender         62884 non-null  category      \n",
      " 10  Product Name   62884 non-null  object        \n",
      " 11  Brand          62884 non-null  object        \n",
      " 12  Category       62884 non-null  object        \n",
      " 13  Country        62884 non-null  object        \n",
      " 14  State          62884 non-null  object        \n",
      " 15  Square Meters  62884 non-null  object        \n",
      "dtypes: category(2), datetime64[ns](1), int64(6), object(7)\n",
      "memory usage: 6.8+ MB\n",
      "None\n"
     ]
    }
   ],
   "source": [
    "print(merged_df.info())"
   ]
  },
  {
   "cell_type": "code",
   "execution_count": 45,
   "id": "f00a1fee-84b5-41f0-a3fb-64aa4fbfd71f",
   "metadata": {},
   "outputs": [
    {
     "name": "stdout",
     "output_type": "stream",
     "text": [
      "Order Number              int64\n",
      "Line Item                 int64\n",
      "Order Date       datetime64[ns]\n",
      "CustomerKey               int64\n",
      "StoreKey                  int64\n",
      "ProductKey                int64\n",
      "Quantity                  int64\n",
      "Currency Code          category\n",
      "Name                     object\n",
      "Gender                 category\n",
      "Product Name             object\n",
      "Brand                    object\n",
      "Category                 object\n",
      "Country                  object\n",
      "State                    object\n",
      "Square Meters            object\n",
      "dtype: object\n"
     ]
    }
   ],
   "source": [
    "print(merged_df.dtypes)"
   ]
  },
  {
   "cell_type": "code",
   "execution_count": 47,
   "id": "db412115-d5a7-4db1-b749-d95e7aa965e3",
   "metadata": {},
   "outputs": [],
   "source": [
    "merged_df.to_csv(\"merged.csv\")\n"
   ]
  },
  {
   "cell_type": "code",
   "execution_count": 49,
   "id": "edff005d-ad5e-45b6-a939-9662b7b8fc9c",
   "metadata": {},
   "outputs": [
    {
     "name": "stdout",
     "output_type": "stream",
     "text": [
      "merged.csv\n"
     ]
    }
   ],
   "source": [
    "\n",
    "print('merged.csv')\n",
    "merged_df.to_csv('C:/ProgramData/MySQL/MySQL Server 8.0/Uploads/datas/merged.csv', index=False)\n"
   ]
  },
  {
   "cell_type": "code",
   "execution_count": 79,
   "id": "7483f113-b701-46dc-84ef-628e5198edf3",
   "metadata": {},
   "outputs": [],
   "source": [
    "merged_df.to_csv(r\"C:\\Users\\Sivanesh Kumar\\Desktop\\merged.csv\", index=False)\n"
   ]
  },
  {
   "cell_type": "code",
   "execution_count": 80,
   "id": "d460e63b-6fb1-4162-94e7-e6a2beb7bcc5",
   "metadata": {},
   "outputs": [],
   "source": [
    "import pandas as pd\n",
    "import pymysql\n",
    "from sqlalchemy import create_engine\n"
   ]
  },
  {
   "cell_type": "code",
   "execution_count": 81,
   "id": "7444836e-911c-4f22-bc30-31105e77e88c",
   "metadata": {},
   "outputs": [],
   "source": [
    "host = \"localhost\"\n",
    "port = \"3306\"\n",
    "username = \"root\"\n",
    "password = \"1234\"\n",
    "database = \"electronicDB\"\n",
    " "
   ]
  },
  {
   "cell_type": "code",
   "execution_count": 82,
   "id": "f41f0431-194d-4494-a0dc-25dad6c8cd01",
   "metadata": {},
   "outputs": [],
   "source": [
    "\n",
    "\n",
    "\n",
    "engine_string = f\"mysql+pymysql://{username}:{password}@{host}:{port}/{database}\"\n",
    "engine = create_engine(engine_string)\n",
    " "
   ]
  },
  {
   "cell_type": "code",
   "execution_count": 83,
   "id": "f053012d-80d8-4773-ae66-47137433ffe7",
   "metadata": {},
   "outputs": [
    {
     "name": "stdout",
     "output_type": "stream",
     "text": [
      "successfully imported merged_df to sql\n"
     ]
    }
   ],
   "source": [
    "table_name = \"merged_df\"\n",
    "merged_df.to_sql(table_name, engine,if_exists='replace',index=False)\n",
    "print(f\"successfully imported {table_name} to sql\")\n"
   ]
  },
  {
   "cell_type": "code",
   "execution_count": 84,
   "id": "af8194ad-b3f2-4cb8-ac05-9eb2c3fc65cc",
   "metadata": {},
   "outputs": [
    {
     "name": "stdout",
     "output_type": "stream",
     "text": [
      "successfully imported customers_df to sql\n"
     ]
    }
   ],
   "source": [
    "table_name = \"customers_df\"\n",
    "customers_df.to_sql(table_name, engine,if_exists='replace',index=False)\n",
    "print(f\"successfully imported {table_name} to sql\")\n"
   ]
  },
  {
   "cell_type": "code",
   "execution_count": 85,
   "id": "6ab31426-1608-4a6d-83ab-5fad3e104722",
   "metadata": {},
   "outputs": [
    {
     "name": "stdout",
     "output_type": "stream",
     "text": [
      "successfully imported products_df to sql\n"
     ]
    }
   ],
   "source": [
    "table_name = \"products_df\"\n",
    "products_df.to_sql(table_name, engine,if_exists='replace',index=False)\n",
    "print(f\"successfully imported {table_name} to sql\")\n"
   ]
  },
  {
   "cell_type": "code",
   "execution_count": 86,
   "id": "573ad415-a311-4b56-9c82-745119a1dae6",
   "metadata": {},
   "outputs": [
    {
     "name": "stdout",
     "output_type": "stream",
     "text": [
      "successfully imported stores_df to sql\n"
     ]
    }
   ],
   "source": [
    "table_name = \"stores_df\"\n",
    "stores_df.to_sql(table_name, engine,if_exists='replace',index=False)\n",
    "print(f\"successfully imported {table_name} to sql\")\n"
   ]
  },
  {
   "cell_type": "code",
   "execution_count": 87,
   "id": "9a0ed768-f625-4dff-bf6d-d6dd54977ab9",
   "metadata": {},
   "outputs": [
    {
     "name": "stdout",
     "output_type": "stream",
     "text": [
      "successfully imported exchangerates_df to sql\n"
     ]
    }
   ],
   "source": [
    "table_name = \"exchangerates_df\"\n",
    "exchangerates_df.to_sql(table_name, engine,if_exists='replace',index=False)\n",
    "print(f\"successfully imported {table_name} to sql\")\n"
   ]
  },
  {
   "cell_type": "code",
   "execution_count": 88,
   "id": "1120da50-15c6-4f4b-aaf5-8e2f742182a7",
   "metadata": {},
   "outputs": [
    {
     "name": "stdout",
     "output_type": "stream",
     "text": [
      "successfully imported sales_df to sql\n"
     ]
    }
   ],
   "source": [
    "table_name = \"sales_df\"\n",
    "sales_df.to_sql(table_name, engine,if_exists='replace',index=False)\n",
    "print(f\"successfully imported {table_name} to sql\")\n"
   ]
  },
  {
   "cell_type": "code",
   "execution_count": null,
   "id": "8fa45459-b481-4387-b789-e342d4b63e64",
   "metadata": {},
   "outputs": [],
   "source": []
  }
 ],
 "metadata": {
  "kernelspec": {
   "display_name": "Python 3 (ipykernel)",
   "language": "python",
   "name": "python3"
  },
  "language_info": {
   "codemirror_mode": {
    "name": "ipython",
    "version": 3
   },
   "file_extension": ".py",
   "mimetype": "text/x-python",
   "name": "python",
   "nbconvert_exporter": "python",
   "pygments_lexer": "ipython3",
   "version": "3.12.4"
  }
 },
 "nbformat": 4,
 "nbformat_minor": 5
}
